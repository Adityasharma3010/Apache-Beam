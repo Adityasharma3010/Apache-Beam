{
  "nbformat": 4,
  "nbformat_minor": 0,
  "metadata": {
    "colab": {
      "provenance": [],
      "include_colab_link": true
    },
    "kernelspec": {
      "name": "python3",
      "display_name": "Python 3"
    }
  },
  "cells": [
    {
      "cell_type": "markdown",
      "metadata": {
        "id": "view-in-github",
        "colab_type": "text"
      },
      "source": [
        "<a href=\"https://colab.research.google.com/github/Adityasharma3010/Apache-Beam/blob/course/Pardo%20Transformation2.ipynb\" target=\"_parent\"><img src=\"https://colab.research.google.com/assets/colab-badge.svg\" alt=\"Open In Colab\"/></a>"
      ]
    },
    {
      "cell_type": "code",
      "metadata": {
        "id": "7G7DYdHY8z19",
        "outputId": "60c03151-9681-4de8-b490-c89fc25ac4d5",
        "colab": {
          "base_uri": "https://localhost:8080/",
          "height": 34
        }
      },
      "source": [
        "import apache_beam as beam\n",
        "\n",
        "words=['peter','piper','pickled','picked','peck','pepper']\n",
        "\n",
        "def SplitRow(element):\n",
        "  return element.split(' ')\n",
        "\n",
        "\n",
        "def FindWord(element):\n",
        " if element in words:\n",
        "    return True\n",
        "\n",
        "class SplitRow(beam.DoFn):\n",
        "  def process(self,element):\n",
        "    return element.split(' ')\n",
        "\n",
        "\n",
        "class CalculateFrequency(beam.DoFn):\n",
        "  def process(self,element):\n",
        "    (key,value) = element\n",
        "    return [(key,sum(value))]\n",
        "\n",
        "   \n",
        "\n",
        "p1 = beam.Pipeline()\n",
        "\n",
        "freq = (\n",
        "    p1\n",
        "    |'Read your input file' >> beam.io.ReadFromText('Peter_Piper.txt')\n",
        "    |'Split Records with Space' >> beam.ParDo(SplitRow())\n",
        "    |'Filtering records' >> beam.Filter(FindWord)\n",
        "    |'Create tupled records'>> beam.Map(lambda record: (record,1))\n",
        "    |'Group By Key'>> beam.GroupByKey()\n",
        "    |'Calculate Frequency of words' >> beam.ParDo(CalculateFrequency())\n",
        "    |beam.io.WriteToText('result')\n",
        ")\n",
        "p1.run()"
      ],
      "execution_count": null,
      "outputs": [
        {
          "output_type": "execute_result",
          "data": {
            "text/plain": [
              "<apache_beam.runners.portability.fn_api_runner.RunnerResult at 0x7f9ca4ba4400>"
            ]
          },
          "metadata": {
            "tags": []
          },
          "execution_count": 24
        }
      ]
    },
    {
      "cell_type": "code",
      "metadata": {
        "id": "9WlEpv6oB5sY",
        "outputId": "6e929682-95f2-48d6-f7dd-b260bb4f0d92",
        "colab": {
          "base_uri": "https://localhost:8080/",
          "height": 118
        }
      },
      "source": [
        "!cat result-00000-of-00001"
      ],
      "execution_count": null,
      "outputs": [
        {
          "output_type": "stream",
          "text": [
            "('peter', 4)\n",
            "('piper', 4)\n",
            "('picked', 4)\n",
            "('peck', 4)\n",
            "('pickled', 4)\n",
            "('pepper', 4)\n"
          ],
          "name": "stdout"
        }
      ]
    }
  ]
}